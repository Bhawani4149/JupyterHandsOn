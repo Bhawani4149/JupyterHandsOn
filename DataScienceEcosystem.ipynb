{
 "cells": [
  {
   "cell_type": "markdown",
   "id": "6969a30b-2e12-41a9-872c-5c6226875502",
   "metadata": {},
   "source": [
    "# Data Science Tools and Ecosystem"
   ]
  },
  {
   "cell_type": "markdown",
   "id": "888c6db3-97a5-484e-94c0-2d8baf14b00b",
   "metadata": {},
   "source": [
    "**In this notebook, Data Science Tools and Ecosystem are summarized.**"
   ]
  },
  {
   "cell_type": "markdown",
   "id": "c11e4d65-960d-413f-808a-f5cc8763b407",
   "metadata": {},
   "source": [
    "Some of the popular languages that Data Scientists use are:\n",
    "1. Python\n",
    "2. R\n",
    "3. Julia\n",
    "4. Java\n",
    "5. JavaScript"
   ]
  },
  {
   "cell_type": "markdown",
   "id": "476ee2be-94ae-4982-a1d9-6182c7ae8083",
   "metadata": {},
   "source": [
    "Some of the commonly used libraries used by Data Scientists include:\n",
    "1. Pandas\n",
    "2. NumPy\n",
    "3. Mathplotlib\n",
    "4. Seaborn"
   ]
  },
  {
   "cell_type": "markdown",
   "id": "c2276ed4-8223-43c2-b448-aae3d03d0c07",
   "metadata": {},
   "source": [
    "| Data Science Tools           |\n",
    "| ---------------------------- |\n",
    "| Jupyter Notebook             |\n",
    "| Anaconda                     |\n",
    "| R studio                     |\n",
    "| Google Colab                 |"
   ]
  },
  {
   "cell_type": "markdown",
   "id": "720541ac-8bc4-4ffd-a1d2-45a914c4f34b",
   "metadata": {},
   "source": [
    "### Below are a few examples of evaluating arithmetic expressions in Python"
   ]
  },
  {
   "cell_type": "code",
   "execution_count": 28,
   "id": "02d56756-9f96-4967-a81f-e7a3f2069b9c",
   "metadata": {},
   "outputs": [
    {
     "data": {
      "text/plain": [
       "17"
      ]
     },
     "execution_count": 28,
     "metadata": {},
     "output_type": "execute_result"
    }
   ],
   "source": [
    "# This a simple arithmetic expression to mutiply then add integers\n",
    "(3*4)+5"
   ]
  },
  {
   "cell_type": "code",
   "execution_count": 30,
   "id": "71dbc751-9521-4714-97ca-4fd23821b4a8",
   "metadata": {},
   "outputs": [
    {
     "name": "stdout",
     "output_type": "stream",
     "text": [
      "3\n"
     ]
    }
   ],
   "source": [
    "# This will convert 200 minutes to hours by diving by 60\n",
    "hours=200//60\n",
    "print(hours)"
   ]
  },
  {
   "cell_type": "markdown",
   "id": "6ecc6098-a1e4-48a2-86de-ad02fd241b95",
   "metadata": {},
   "source": [
    "**Objectives:**\n",
    "+ List popular languages for Data Science.\n",
    "+ Identify and describe commonly used Data Science libraries.\n",
    "+ Create and format Markdown cells and tables in a Jupyter notebook.\n",
    "+ Perform and verify simple arithmetic and time-conversion computations in code cells."
   ]
  },
  {
   "cell_type": "markdown",
   "id": "70a04639-231c-46f6-973c-7cd94256194c",
   "metadata": {},
   "source": [
    "## Author\n",
    "Durga Bhawani Ganta"
   ]
  },
  {
   "cell_type": "code",
   "execution_count": null,
   "id": "353ce238-b576-4912-8f49-5216f6f20741",
   "metadata": {},
   "outputs": [],
   "source": []
  }
 ],
 "metadata": {
  "kernelspec": {
   "display_name": "Python 3 (ipykernel)",
   "language": "python",
   "name": "python3"
  },
  "language_info": {
   "codemirror_mode": {
    "name": "ipython",
    "version": 3
   },
   "file_extension": ".py",
   "mimetype": "text/x-python",
   "name": "python",
   "nbconvert_exporter": "python",
   "pygments_lexer": "ipython3",
   "version": "3.9.0"
  }
 },
 "nbformat": 4,
 "nbformat_minor": 5
}
